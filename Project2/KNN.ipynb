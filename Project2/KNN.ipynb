{
 "cells": [
  {
   "cell_type": "code",
   "execution_count": 2,
   "metadata": {},
   "outputs": [],
   "source": [
    "import pandas as pd \n",
    "#Data. Converting csv files to dataframes\n",
    "train=pd.read_csv(\"train.csv\")\n",
    "test=pd.read_csv(\"test.csv\")\n",
    "train_imp=train"
   ]
  },
  {
   "cell_type": "code",
   "execution_count": 3,
   "metadata": {},
   "outputs": [
    {
     "name": "stdout",
     "output_type": "stream",
     "text": [
      "Labels for training and testing data\n",
      "Training data set\n",
      "(476169, 59)\n",
      "(476169,)\n",
      "Testing data set\n",
      "(119043, 59)\n",
      "(119043,)\n"
     ]
    }
   ],
   "source": [
    "#train-test-split\n",
    "\n",
    "from sklearn.model_selection import train_test_split\n",
    "\n",
    "X=train_imp\n",
    "y=train['target']\n",
    "\n",
    "train_X, test_X, train_y, test_y = train_test_split(X,y, \n",
    "                                                    train_size=0.8,\n",
    "                                                    test_size=0.2,\n",
    "                                                    random_state=100)\n",
    "print(\"Labels for training and testing data\")\n",
    "\n",
    "#Checking whether the test and train data split has been done correctly\n",
    "print(\"Training data set\")\n",
    "print(train_X.shape)\n",
    "print(train_y.shape)\n",
    "print(\"Testing data set\")\n",
    "print(test_X.shape)\n",
    "print(test_y.shape)"
   ]
  },
  {
   "cell_type": "code",
   "execution_count": null,
   "metadata": {},
   "outputs": [],
   "source": []
  },
  {
   "cell_type": "code",
   "execution_count": 5,
   "metadata": {},
   "outputs": [
    {
     "name": "stdout",
     "output_type": "stream",
     "text": [
      "Trainig data accuracy: 0.963727164095\n",
      "Test accuarcy: 0.962786556118\n"
     ]
    }
   ],
   "source": [
    "from sklearn.neighbors import KNeighborsClassifier\n",
    "from sklearn import metrics\n",
    "\n",
    "classifier = KNeighborsClassifier()\n",
    "#This fits the model object to the data.\n",
    "classifier.fit(train_X, train_y)\n",
    "#This creates the prediction. \n",
    "pred_y = classifier.predict(test_X)\n",
    "pred_train=classifier.predict(train_X)\n",
    "#print(\"Metrics score: \", metrics.accuracy_score(test_y, pred_y) )\n",
    "knn_train1_y_acc=metrics.accuracy_score(train_y,pred_train)\n",
    "print(\"Trainig data accuracy:\",knn_train1_y_acc)\n",
    "#print(\"Classifier score: \", classifier.score(test_X, test_y) )\n",
    "knn_test1_y_acc=metrics.accuracy_score(test_y,pred_y)\n",
    "print(\"Test accuarcy:\",knn_test1_y_acc)\n"
   ]
  },
  {
   "cell_type": "code",
   "execution_count": null,
   "metadata": {},
   "outputs": [],
   "source": []
  }
 ],
 "metadata": {
  "kernelspec": {
   "display_name": "Python [conda root]",
   "language": "python",
   "name": "conda-root-py"
  },
  "language_info": {
   "codemirror_mode": {
    "name": "ipython",
    "version": 3
   },
   "file_extension": ".py",
   "mimetype": "text/x-python",
   "name": "python",
   "nbconvert_exporter": "python",
   "pygments_lexer": "ipython3",
   "version": "3.6.2"
  }
 },
 "nbformat": 4,
 "nbformat_minor": 2
}
