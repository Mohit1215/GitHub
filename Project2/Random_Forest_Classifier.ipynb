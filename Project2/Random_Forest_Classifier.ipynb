{
 "cells": [
  {
   "cell_type": "code",
   "execution_count": 2,
   "metadata": {},
   "outputs": [],
   "source": [
    "#Importing required data frames\n",
    "\n",
    "import pandas as pd\n",
    "import sklearn\n",
    "from sklearn.model_selection import train_test_split\n",
    "from sklearn.ensemble import RandomForestClassifier\n",
    "from sklearn.metrics import accuracy_score\n",
    "from sklearn.metrics import confusion_matrix\n"
   ]
  },
  {
   "cell_type": "code",
   "execution_count": 3,
   "metadata": {},
   "outputs": [],
   "source": [
    "#Data. Converting csv files to dataframes\n",
    "train=pd.read_csv(\"train.csv\")\n",
    "test=pd.read_csv(\"test.csv\")\n",
    "train_imp=train"
   ]
  },
  {
   "cell_type": "code",
   "execution_count": 25,
   "metadata": {},
   "outputs": [
    {
     "name": "stdout",
     "output_type": "stream",
     "text": [
      "Labels for training and testing data\n",
      "Training data set\n",
      "(476169, 57)\n",
      "(476169,)\n",
      "Testing data set\n",
      "(119043, 57)\n",
      "(119043,)\n"
     ]
    }
   ],
   "source": [
    "#train-test-split\n",
    "\n",
    "from sklearn.model_selection import train_test_split\n",
    "\n",
    "X=train_imp\n",
    "y=train['target']\n",
    "\n",
    "train_X, test_X, train_y, test_y = train_test_split(X.drop(['id','target'], axis=1),y, \n",
    "                                                    train_size=0.8,\n",
    "                                                    test_size=0.2,\n",
    "                                                    random_state=100)\n",
    "print(\"Labels for training and testing data\")\n",
    "\n",
    "#Checking whether the test and train data split has been done correctly\n",
    "print(\"Training data set\")\n",
    "print(train_X.shape)\n",
    "print(train_y.shape)\n",
    "print(\"Testing data set\")\n",
    "print(test_X.shape)\n",
    "print(test_y.shape)"
   ]
  },
  {
   "cell_type": "code",
   "execution_count": 26,
   "metadata": {},
   "outputs": [
    {
     "name": "stdout",
     "output_type": "stream",
     "text": [
      "Training done RandomForestClassifier(bootstrap=True, class_weight=None, criterion='gini',\n",
      "            max_depth=None, max_features='auto', max_leaf_nodes=None,\n",
      "            min_impurity_split=1e-07, min_samples_leaf=1,\n",
      "            min_samples_split=2, min_weight_fraction_leaf=0.0,\n",
      "            n_estimators=10, n_jobs=1, oob_score=False, random_state=None,\n",
      "            verbose=0, warm_start=False)\n"
     ]
    }
   ],
   "source": [
    "#Implementing Random Forests\n",
    "clf = RandomForestClassifier()\n",
    "trained_model=clf.fit(train_X, train_y)\n",
    "print(\"Training done\",trained_model)\n",
    "\n"
   ]
  },
  {
   "cell_type": "code",
   "execution_count": 27,
   "metadata": {},
   "outputs": [
    {
     "name": "stdout",
     "output_type": "stream",
     "text": [
      "train_accuracy: 0.991196402958\n",
      "test_accuracy: 0.963189771763\n"
     ]
    }
   ],
   "source": [
    "#Calculating Training Accuracy\n",
    "\n",
    "predictions=trained_model.predict(test_X)\n",
    "\n",
    "print(\"train_accuracy:\", accuracy_score(train_y,trained_model.predict(train_X)))\n",
    "\n",
    "print(\"test_accuracy:\", accuracy_score(test_y,predictions))\n",
    "\n",
    "#print(\"Training accuracy:\",train_accuracy)\n",
    "#print(\"Testing accuracy:\",test_accuracy)\n",
    " "
   ]
  },
  {
   "cell_type": "code",
   "execution_count": null,
   "metadata": {},
   "outputs": [],
   "source": []
  },
  {
   "cell_type": "code",
   "execution_count": null,
   "metadata": {},
   "outputs": [],
   "source": []
  }
 ],
 "metadata": {
  "kernelspec": {
   "display_name": "Python [conda root]",
   "language": "python",
   "name": "conda-root-py"
  },
  "language_info": {
   "codemirror_mode": {
    "name": "ipython",
    "version": 3
   },
   "file_extension": ".py",
   "mimetype": "text/x-python",
   "name": "python",
   "nbconvert_exporter": "python",
   "pygments_lexer": "ipython3",
   "version": "3.6.2"
  }
 },
 "nbformat": 4,
 "nbformat_minor": 2
}
